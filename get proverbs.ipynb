{
 "cells": [
  {
   "cell_type": "code",
   "execution_count": 1,
   "metadata": {},
   "outputs": [],
   "source": [
    "import nltk, re, requests\n",
    "from urllib import request\n",
    "from urllib.request import urlopen\n",
    "from nltk import word_tokenize\n",
    "from bs4 import BeautifulSoup\n",
    "import pymorphy2"
   ]
  },
  {
   "cell_type": "markdown",
   "metadata": {},
   "source": [
    "Cf.\n",
    "https://www.nltk.org/book/ch03.html\n",
    "http://wiki.python.su/Документации/BeautifulSoup\n",
    "https://www.crummy.com/software/BeautifulSoup/bs4/doc/\n",
    "https://pymorphy2.readthedocs.io/en/0.2/user/index.html"
   ]
  },
  {
   "cell_type": "code",
   "execution_count": 2,
   "metadata": {},
   "outputs": [],
   "source": [
    "trigger_word = input(\"Введите слово: \")\n",
    "#trigger_word = 'рука'"
   ]
  },
  {
   "cell_type": "code",
   "execution_count": 3,
   "metadata": {},
   "outputs": [],
   "source": [
    "url = \"https://ru.wikiquote.org/wiki/Русские_пословицы\""
   ]
  },
  {
   "cell_type": "code",
   "execution_count": 4,
   "metadata": {},
   "outputs": [],
   "source": [
    "response = requests.get(url).content\n",
    "soup = BeautifulSoup(response, \"html.parser\")\n",
    "text_tokens = nltk.tokenize.word_tokenize(soup.get_text())\n",
    "words = [w.lower() for w in text_tokens]\n",
    "vocab = sorted(set(words))"
   ]
  },
  {
   "cell_type": "code",
   "execution_count": 5,
   "metadata": {},
   "outputs": [],
   "source": [
    "#extract text\n",
    "\n",
    "response = requests.get(url).content\n",
    "soup = BeautifulSoup(response, \"html.parser\")\n",
    "\n",
    "# kill all script and style elements\n",
    "for script in soup([\"script\", \"style\"]):\n",
    "    script.extract()    # rip it out\n",
    "\n",
    "# get text\n",
    "text = soup.get_text()\n",
    "\n",
    "# break into lines and remove leading and trailing space on each\n",
    "lines = (line.strip() for line in text.splitlines())\n",
    "# break multi-headlines into a line each\n",
    "chunks = (phrase.strip() for line in lines for phrase in line.split(\"  \"))\n",
    "# drop blank lines\n",
    "text = '\\n'.join(chunk for chunk in chunks if chunk)"
   ]
  },
  {
   "cell_type": "code",
   "execution_count": 10,
   "metadata": {},
   "outputs": [],
   "source": [
    "def get_proverb(word):\n",
    "    \n",
    "    pymorph = pymorphy2.MorphAnalyzer(lang='ru')\n",
    "    word = pymorph.parse(word)[0].normal_form\n",
    "    proverbs = []\n",
    "    lines = (line.strip() for line in text.splitlines())\n",
    "\n",
    "    for line in lines:\n",
    "        word = pymorph.parse(word)[0].normal_form\n",
    "        if word in line:    \n",
    "            line = re.sub(r'\\xa0—', ' -', line) \n",
    "            proverbs.append(line)\n",
    "        \n",
    "    return(proverbs)"
   ]
  },
  {
   "cell_type": "code",
   "execution_count": 11,
   "metadata": {},
   "outputs": [
    {
     "name": "stdout",
     "output_type": "stream",
     "text": [
      "Ах, да руками мах.\n",
      "Бить по рогам - лишь надсада рукам.\n",
      "Бог с милостью, а бабка с руками.\n",
      "Бранись, а рукам волю не давай.\n",
      "В чужих руках ломоть велик.\n",
      "В чужих руках ноготок с локоток.\n",
      "Дающая рука не отболит, берущая не отсохнет.\n",
      "Двое пашут, а семеро руками машут.\n",
      "Которая рука крест кладёт, та и нож точит.\n",
      "Лучше синица в руках, чем журавль в небе.\n",
      "Люди пахать, а мы руками махать.\n",
      "С молитвой в устах, с работой в руках.\n",
      "Садись, кум, обедать: вон твои рукавицы и шапка.\n",
      "Чужую беду руками (на бобах) разведу, а к своей и ума не приложу.\n",
      "Шей, вдова, широки рукава: было бы, во что класть небылые слова.\n",
      "Широки рукава: знать с Трубецкова двора.\n",
      "Языком болтай, а руками воли не давай.\n",
      "Яким - простота: две рукавицы за поясом, а третьей ищет.\n"
     ]
    }
   ],
   "source": [
    "proverbs = get_proverb(trigger_word)\n",
    "for p in range(len(proverbs)):\n",
    "    proverbs[p] = re.sub(r'\\xa0—', ' -', proverbs[p])\n",
    "    print(proverbs[p])"
   ]
  },
  {
   "cell_type": "code",
   "execution_count": null,
   "metadata": {},
   "outputs": [],
   "source": []
  }
 ],
 "metadata": {
  "kernelspec": {
   "display_name": "Python 3",
   "language": "python",
   "name": "python3"
  },
  "language_info": {
   "codemirror_mode": {
    "name": "ipython",
    "version": 3
   },
   "file_extension": ".py",
   "mimetype": "text/x-python",
   "name": "python",
   "nbconvert_exporter": "python",
   "pygments_lexer": "ipython3",
   "version": "3.6.7"
  }
 },
 "nbformat": 4,
 "nbformat_minor": 2
}
