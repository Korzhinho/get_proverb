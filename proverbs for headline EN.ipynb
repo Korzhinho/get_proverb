{
 "cells": [
  {
   "cell_type": "code",
   "execution_count": 1,
   "metadata": {},
   "outputs": [],
   "source": [
    "import nltk, re, requests\n",
    "from urllib import request\n",
    "from urllib.request import urlopen\n",
    "from nltk import word_tokenize\n",
    "from nltk.stem import PorterStemmer\n",
    "from nltk.corpus import stopwords\n",
    "from bs4 import BeautifulSoup\n",
    "import pymorphy2"
   ]
  },
  {
   "cell_type": "code",
   "execution_count": 2,
   "metadata": {},
   "outputs": [],
   "source": [
    "urls = [\"https://ru.wikiquote.org/wiki/Русские_пословицы\", \"https://en.wikipedia.org/wiki/List_of_proverbial_phrases\"]\n",
    "list_of_proverbs = ''\n",
    "\n",
    "for url in urls:\n",
    "    response = requests.get(url).content\n",
    "    soup = BeautifulSoup(response, \"html.parser\")\n",
    "\n",
    "    for script in soup([\"script\", \"style\"]):\n",
    "        script.extract()\n",
    "\n",
    "    text = soup.get_text()\n",
    "\n",
    "    lines = (line.strip() for line in text.splitlines())\n",
    "    chunks = (phrase.strip() for line in lines for phrase in line.split(\"  \"))\n",
    "    text = '\\n'.join(chunk for chunk in chunks if chunk)\n",
    "    list_of_proverbs += text + '\\n'"
   ]
  },
  {
   "cell_type": "code",
   "execution_count": 3,
   "metadata": {},
   "outputs": [],
   "source": [
    "def parse_headline(headline):\n",
    "    stop_words_ru = stopwords.words(\"russian\")\n",
    "    stop_words_en = stopwords.words(\"english\")\n",
    "    pymorph = pymorphy2.MorphAnalyzer()\n",
    "    ps = PorterStemmer()\n",
    "    words = []\n",
    "\n",
    "    for word in headline.split(u' '):\n",
    "        if not re.match(u'([^а-я¨e]+)', word) and word not in stop_words_ru:\n",
    "            word = pymorph.parse(word)[0].normal_form\n",
    "            words.append(word)\n",
    "        if not re.match(u'([^a-z]+)', word) and word not in stop_words_en:\n",
    "            word = ps.stem(word)\n",
    "            words.append(word)\n",
    "    return words"
   ]
  },
  {
   "cell_type": "code",
   "execution_count": 4,
   "metadata": {},
   "outputs": [],
   "source": [
    "def get_proverb(word):\n",
    "    pymorph = pymorphy2.MorphAnalyzer()\n",
    "    word = pymorph.parse(word)[0].normal_form\n",
    "    proverbs = []\n",
    "    lines = (line.strip() for line in list_of_proverbs.splitlines())\n",
    "\n",
    "    for line in lines:\n",
    "        word = pymorph.parse(word)[0].normal_form\n",
    "        if word in line:    \n",
    "            proverbs.append(line)\n",
    "        \n",
    "    return(proverbs)"
   ]
  },
  {
   "cell_type": "code",
   "execution_count": 5,
   "metadata": {},
   "outputs": [],
   "source": [
    "def proverbs(headline):\n",
    "    proverbs_list = []\n",
    "    chunked_headline = parse_headline(headline)\n",
    "    for c in chunked_headline:\n",
    "        proverbs = get_proverb(c)\n",
    "        for p in range(len(proverbs)):\n",
    "            proverbs[p] = re.sub(r'\\xa0—', ' -', proverbs[p])\n",
    "            proverbs[p] = re.sub(r'\\[.*\\]', '', proverbs[p]) \n",
    "            proverbs_list.append(proverbs[p])\n",
    "    return proverbs_list"
   ]
  },
  {
   "cell_type": "code",
   "execution_count": 6,
   "metadata": {},
   "outputs": [
    {
     "name": "stdout",
     "output_type": "stream",
     "text": [
      "Бояться пульки - нейти в солдаты.\n",
      "Где коза прошла, там и солдат пройдёт.\n",
      "Дурак любит красно, солдат любит ясно.\n",
      "Знай, солдат, честь: погрелся, да и вон!\n",
      "Когда солдат палки не боится, ни в строй, ни в дело не годится.\n",
      "Один солдат - не полк.\n",
      "Поп попа родит, солдат солдата.\n"
     ]
    }
   ],
   "source": [
    "headline = 'Появилось видео задержания устроившего стрельбу под Воронежем солдата'\n",
    "for item in proverbs(headline):\n",
    "    print(item)"
   ]
  },
  {
   "cell_type": "code",
   "execution_count": 7,
   "metadata": {},
   "outputs": [
    {
     "name": "stdout",
     "output_type": "stream",
     "text": [
      "Dead men tell no tales\n",
      "Every picture tells a story\n",
      "Never tell tales out of school\n",
      "Tell me who your friends are, and I'll tell you who you are\n",
      "(Only) time will tell\n",
      "You can never/never can tell\n",
      "Laugh and the world laughs with you, weep and you weep alone\n",
      "Better wear out than rust out.\n",
      "If the shoe fits, wear it\n",
      "The cobbler always wears the worst shoes\n",
      "There's no need to wear a hair shirt\n",
      "Uneasy lies the head that wears a crown\n",
      "^ \"Definition of uneasy lies the head that wears a crown | Dictionary.com\". www.dictionary.com. Retrieved 28 December 2019.\n"
     ]
    }
   ],
   "source": [
    "headline = \"Biden tells Americans: I implore you, wear a mask\"\n",
    "for item in proverbs(headline):\n",
    "    print(item)"
   ]
  }
 ],
 "metadata": {
  "kernelspec": {
   "display_name": "Python 3",
   "language": "python",
   "name": "python3"
  },
  "language_info": {
   "codemirror_mode": {
    "name": "ipython",
    "version": 3
   },
   "file_extension": ".py",
   "mimetype": "text/x-python",
   "name": "python",
   "nbconvert_exporter": "python",
   "pygments_lexer": "ipython3",
   "version": "3.6.7"
  }
 },
 "nbformat": 4,
 "nbformat_minor": 2
}
