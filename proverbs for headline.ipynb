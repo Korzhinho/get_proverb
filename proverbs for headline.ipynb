{
 "cells": [
  {
   "cell_type": "code",
   "execution_count": 1,
   "metadata": {},
   "outputs": [],
   "source": [
    "import nltk, re, requests\n",
    "from urllib import request\n",
    "from urllib.request import urlopen\n",
    "from nltk import word_tokenize\n",
    "from nltk.corpus import stopwords\n",
    "from bs4 import BeautifulSoup\n",
    "import pymorphy2"
   ]
  },
  {
   "cell_type": "code",
   "execution_count": 2,
   "metadata": {},
   "outputs": [],
   "source": [
    "headline = 'Появилось видео задержания устроившего стрельбу под Воронежем солдата'"
   ]
  },
  {
   "cell_type": "code",
   "execution_count": 3,
   "metadata": {},
   "outputs": [],
   "source": [
    "url = \"https://ru.wikiquote.org/wiki/Русские_пословицы\"\n",
    "\n",
    "response = requests.get(url).content\n",
    "soup = BeautifulSoup(response, \"html.parser\")\n",
    "\n",
    "for script in soup([\"script\", \"style\"]):\n",
    "    script.extract()    # rip it out\n",
    "\n",
    "text = soup.get_text()\n",
    "\n",
    "lines = (line.strip() for line in text.splitlines())\n",
    "chunks = (phrase.strip() for line in lines for phrase in line.split(\"  \"))\n",
    "text = '\\n'.join(chunk for chunk in chunks if chunk)"
   ]
  },
  {
   "cell_type": "code",
   "execution_count": 4,
   "metadata": {},
   "outputs": [],
   "source": [
    "def parse_headline(headline):\n",
    "    stop_words = stopwords.words(\"russian\")\n",
    "    pymorph = pymorphy2.MorphAnalyzer()\n",
    "    words = []\n",
    "\n",
    "    for word in headline.split(u' '):\n",
    "        if not re.match(u'([^a-zа-я¨e]+)', word) and word not in stop_words:\n",
    "            word = pymorph.parse(word)[0].normal_form\n",
    "            words.append(word)\n",
    "    return words"
   ]
  },
  {
   "cell_type": "code",
   "execution_count": 5,
   "metadata": {},
   "outputs": [],
   "source": [
    "def get_proverb(word):\n",
    "    try:\n",
    "        pymorph = pymorphy2.MorphAnalyzer(lang=\"ru\")\n",
    "    except ValueError:\n",
    "        pymorph = pymorphy2.MorphAnalyzer(lang=\"ru-old\")\n",
    "    word = pymorph.parse(word)[0].normal_form\n",
    "    proverbs = []\n",
    "    lines = (line.strip() for line in text.splitlines())\n",
    "\n",
    "    for line in lines:\n",
    "        word = pymorph.parse(word)[0].normal_form\n",
    "        if word in line:    \n",
    "            line = re.sub(r'\\xa0—', ' -', line) \n",
    "            proverbs.append(line)\n",
    "        \n",
    "    return(proverbs)"
   ]
  },
  {
   "cell_type": "code",
   "execution_count": 6,
   "metadata": {},
   "outputs": [
    {
     "name": "stdout",
     "output_type": "stream",
     "text": [
      "Бояться пульки - нейти в солдаты.\n",
      "Где коза прошла, там и солдат пройдёт.\n",
      "Дурак любит красно, солдат любит ясно.\n",
      "Знай, солдат, честь: погрелся, да и вон!\n",
      "Когда солдат палки не боится, ни в строй, ни в дело не годится.\n",
      "Один солдат - не полк.\n",
      "Поп попа родит, солдат солдата.\n"
     ]
    }
   ],
   "source": [
    "headline = 'Появилось видео задержания устроившего стрельбу под Воронежем солдата'\n",
    "headline = parse_headline(headline)\n",
    "for w in headline:\n",
    "    proverbs = get_proverb(w)\n",
    "    for p in range(len(proverbs)):\n",
    "        proverbs[p] = re.sub(r'\\xa0—', ' -', proverbs[p])\n",
    "        print(proverbs[p])"
   ]
  }
 ],
 "metadata": {
  "kernelspec": {
   "display_name": "Python 3",
   "language": "python",
   "name": "python3"
  },
  "language_info": {
   "codemirror_mode": {
    "name": "ipython",
    "version": 3
   },
   "file_extension": ".py",
   "mimetype": "text/x-python",
   "name": "python",
   "nbconvert_exporter": "python",
   "pygments_lexer": "ipython3",
   "version": "3.6.7"
  }
 },
 "nbformat": 4,
 "nbformat_minor": 2
}
